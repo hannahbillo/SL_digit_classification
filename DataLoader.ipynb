{
  "cells": [
    {
      "cell_type": "code",
      "execution_count": 38,
      "metadata": {
        "id": "rG9HnbswTae4"
      },
      "outputs": [
        {
          "data": {
            "text/plain": [
              "<torch._C.Generator at 0x7f7f666cf9d0>"
            ]
          },
          "execution_count": 38,
          "metadata": {},
          "output_type": "execute_result"
        }
      ],
      "source": [
        "import numpy as np\n",
        "import torch\n",
        "import torch.nn as nn\n",
        "from torchvision import transforms, datasets\n",
        "from torch.utils.data import DataLoader, Subset\n",
        "import matplotlib.pyplot as plt\n",
        "import copy\n",
        "\n",
        "torch.manual_seed(0)\n"
      ]
    },
    {
      "cell_type": "markdown",
      "metadata": {},
      "source": [
        "Each project follows the same overall structure:\n",
        "\n",
        "- Download the data and preprocess it as required for the given task (if needed).\n",
        "- Write a Dataset class for creating the train and test datasets (and corresponding dataloaders).\n",
        "- Define the neural network model.\n",
        "- Define the hyperparameters to create an instance of the model (e.g., hidden space size, number of convolution kernels...) as well as the parameters required to train neural network (e.g., learning rate).\n",
        "- Write the training loop for training the model.\n",
        "- Evaluate the model on the test data. In this part, it is expected to choose an appropriate evaluation metric based on your task. For instance, for classification task, accuracy should be computed (but you can also search for 'precision' and 'recall').\n",
        "Save the trained model parameters, and the obtained results if needed.\n",
        "- Ideally, visualize the results, e.g., display an image/audio/text, along with the true and estimated label. As bonus you can also compute the t-sne embeddings over layers, plot a confusion matrix between classes to see where errors come from, etc."
      ]
    },
    {
      "cell_type": "code",
      "execution_count": 25,
      "metadata": {
        "id": "ZGEBpXysUVm-"
      },
      "outputs": [],
      "source": [
        "# Each numpy file has 2062\n",
        "\n",
        "X = np.load('./Sign-language-digits-dataset/X.npy')\n",
        "y = np.load('./Sign-language-digits-dataset/Y.npy')"
      ]
    },
    {
      "cell_type": "code",
      "execution_count": 26,
      "metadata": {
        "colab": {
          "base_uri": "https://localhost:8080/"
        },
        "id": "7vpRAOWCWW37",
        "outputId": "0ac7c5c5-38f6-4a48-edeb-9559bf2abd22"
      },
      "outputs": [
        {
          "name": "stdout",
          "output_type": "stream",
          "text": [
            "[[0.46666667 0.4745098  0.47843137 ... 0.5176471  0.5137255  0.5019608 ]\n",
            " [0.49803922 0.4862745  0.4862745  ... 0.5254902  0.5176471  0.50980395]\n",
            " [0.54509807 0.49411765 0.49019608 ... 0.5294118  0.5254902  0.5137255 ]\n",
            " ...\n",
            " [0.5019608  0.5137255  0.5176471  ... 0.5529412  0.54509807 0.53333336]\n",
            " [0.49803922 0.5058824  0.5137255  ... 0.54509807 0.53333336 0.52156866]\n",
            " [0.49019608 0.49803922 0.5019608  ... 0.5294118  0.52156866 0.50980395]]\n"
          ]
        }
      ],
      "source": [
        "print(X[0])"
      ]
    },
    {
      "cell_type": "code",
      "execution_count": 27,
      "metadata": {
        "colab": {
          "base_uri": "https://localhost:8080/"
        },
        "id": "FvpG6oEiV8CO",
        "outputId": "ac2cfdf2-d347-4e56-d5e7-b3cd374e56d2"
      },
      "outputs": [
        {
          "name": "stdout",
          "output_type": "stream",
          "text": [
            "(64, 64)\n"
          ]
        }
      ],
      "source": [
        "print(X[0].shape)"
      ]
    },
    {
      "cell_type": "code",
      "execution_count": 28,
      "metadata": {
        "id": "Ovx2HandWwbr"
      },
      "outputs": [],
      "source": [
        "# takes a set of numpy and returns an image\n",
        "\n",
        "def myplot(x):\n",
        "    plt.figure()\n",
        "    plt.imshow(x, cmap='gray')\n",
        "    plt.show()\n",
        "    return"
      ]
    },
    {
      "cell_type": "code",
      "execution_count": 29,
      "metadata": {
        "colab": {
          "base_uri": "https://localhost:8080/",
          "height": 432
        },
        "id": "uSPR6c9_8B5D",
        "outputId": "26927eb6-6485-4c79-a20a-ba1f5665707e"
      },
      "outputs": [
        {
          "data": {
            "image/png": "[encoded data removed]",
            "text/plain": [
              "<Figure size 640x480 with 1 Axes>"
            ]
          },
          "metadata": {},
          "output_type": "display_data"
        }
      ],
      "source": [
        "myplot(X[0])"
      ]
    },
    {
      "cell_type": "markdown",
      "metadata": {},
      "source": [
        "## Split into Train, Validation and Test"
      ]
    },
    {
      "cell_type": "code",
      "execution_count": 30,
      "metadata": {},
      "outputs": [],
      "source": [
        "from torch.utils.data import Dataset, DataLoader\n",
        "from sklearn.model_selection import train_test_split"
      ]
    },
    {
      "cell_type": "code",
      "execution_count": 31,
      "metadata": {},
      "outputs": [],
      "source": [
        "X_train, X_, y_train, y_ = train_test_split(X, y, test_size=0.2, random_state=42)\n",
        "X_test, X_valid, y_test, y_valid = train_test_split(X_, y_, test_size=0.5, random_state=42)"
      ]
    },
    {
      "cell_type": "code",
      "execution_count": 32,
      "metadata": {},
      "outputs": [
        {
          "name": "stdout",
          "output_type": "stream",
          "text": [
            "Len train:  1649\n",
            "Len valid:  207\n",
            "Len test:  206\n"
          ]
        }
      ],
      "source": [
        "print('Len train: ', len(X_train))\n",
        "print('Len valid: ', len(X_valid))\n",
        "print('Len test: ', len(X_test))"
      ]
    },
    {
      "cell_type": "code",
      "execution_count": 35,
      "metadata": {},
      "outputs": [],
      "source": [
        "class DigitDataset(Dataset):\n",
        "  def __init__(self, images, labels):\n",
        "        self.labels = labels\n",
        "        self.images = images\n",
        "\n",
        "  def __len__(self):\n",
        "        return len(self.images)\n",
        "\n",
        "  def __getitem__(self, index):\n",
        "        X = self.images[index]\n",
        "        y = self.labels[index]\n",
        "\n",
        "        return X, y"
      ]
    },
    {
      "cell_type": "code",
      "execution_count": 36,
      "metadata": {},
      "outputs": [],
      "source": [
        "BATCH_SIZE = 8\n",
        "\n",
        "train_set = DigitDataset(X_train, y_train)\n",
        "train_loader = DataLoader(train_set, batch_size=BATCH_SIZE, shuffle=True)\n",
        "\n",
        "valid_set = DigitDataset(X_valid, y_valid)\n",
        "valid_loader = DataLoader(valid_set)"
      ]
    },
    {
      "cell_type": "code",
      "execution_count": 37,
      "metadata": {},
      "outputs": [
        {
          "data": {
            "text/plain": [
              "(array([[0.56078434, 0.5647059 , 0.5647059 , ..., 0.5411765 , 0.54901963,\n",
              "         0.54509807],\n",
              "        [0.56078434, 0.57254905, 0.5764706 , ..., 0.56078434, 0.56078434,\n",
              "         0.5529412 ],\n",
              "        [0.5647059 , 0.5764706 , 0.5803922 , ..., 0.57254905, 0.5686275 ,\n",
              "         0.5568628 ],\n",
              "        ...,\n",
              "        [0.5137255 , 0.5176471 , 0.5176471 , ..., 0.49411765, 0.49411765,\n",
              "         0.4862745 ],\n",
              "        [0.50980395, 0.50980395, 0.50980395, ..., 0.49411765, 0.49019608,\n",
              "         0.47843137],\n",
              "        [0.5019608 , 0.5019608 , 0.5058824 , ..., 0.4862745 , 0.48235294,\n",
              "         0.47058824]], dtype=float32),\n",
              " array([0., 0., 0., 0., 0., 1., 0., 0., 0., 0.]))"
            ]
          },
          "execution_count": 37,
          "metadata": {},
          "output_type": "execute_result"
        }
      ],
      "source": [
        "next(iter(train_set))"
      ]
    },
    {
      "cell_type": "code",
      "execution_count": null,
      "metadata": {},
      "outputs": [],
      "source": []
    }
  ],
  "metadata": {
    "colab": {
      "provenance": []
    },
    "kernelspec": {
      "display_name": "Python 3",
      "name": "python3"
    },
    "language_info": {
      "codemirror_mode": {
        "name": "ipython",
        "version": 3
      },
      "file_extension": ".py",
      "mimetype": "text/x-python",
      "name": "python",
      "nbconvert_exporter": "python",
      "pygments_lexer": "ipython3",
      "version": "3.10.9"
    }
  },
  "nbformat": 4,
  "nbformat_minor": 0
}
